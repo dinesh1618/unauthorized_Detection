{
 "cells": [
  {
   "cell_type": "code",
   "execution_count": null,
   "id": "f0b96b44",
   "metadata": {},
   "outputs": [],
   "source": []
  },
  {
   "cell_type": "code",
   "execution_count": null,
   "id": "b395d392",
   "metadata": {},
   "outputs": [],
   "source": []
  },
  {
   "cell_type": "code",
   "execution_count": null,
   "id": "b610c306",
   "metadata": {},
   "outputs": [],
   "source": []
  },
  {
   "cell_type": "code",
   "execution_count": null,
   "id": "339f8e30",
   "metadata": {},
   "outputs": [],
   "source": [
    "import time\n",
    "def faceDetection(testImage):\n",
    "    Grayimg = cv2.cvtColor(testImage, cv2.COLOR_BGR2GRAY)\n",
    "    face_haar = cv2.CascadeClassifier(r\"C:\\Users\\dines\\Music\\Work\\haaar\\haarcascade_frontalface_default.xml\")\n",
    "    faces= face_haar.detectMultiScale(Grayimg, scaleFactor=1.32, minNeighbors=5)\n",
    "    return faces, Grayimg\n",
    "def drawrect(img, faces, color):\n",
    "    (x, y, w, h) = faces\n",
    "    cv2.rectangle(img, (x, y), (x+w, y+h), color, 5)\n",
    "\n",
    "def puttext(img, text, x, y):\n",
    "    cv2.putText(img, text, (x, y), cv2.FONT_HERSHEY_PLAIN, 2, (255, 0, 0), 3)\n",
    "\n",
    "def mouse_click(event, x, y,flags, param):\n",
    "    if event == cv2.EVENT_MOUSEMOVE:\n",
    "        time.sleep(20)\n",
    "        os.system(\"rundll32.exe powrprof.dll,SetSuspendState 0,1,0\")"
   ]
  },
  {
   "cell_type": "code",
   "execution_count": null,
   "id": "771f4156",
   "metadata": {},
   "outputs": [],
   "source": [
    "import cv2\n",
    "import numpy as np\n",
    "import os\n",
    "cap = cv2.VideoCapture(0)\n",
    "while True:\n",
    "    res, img = cap.read()\n",
    "    facesdetected, Grayimg = faceDetection(img)\n",
    "    face_recognizer = cv2.face.LBPHFaceRecognizer_create()\n",
    "    face_recognizer.read(r\"C:\\Users\\dines\\Music\\Work\\opencvprojects\\training.yml\")\n",
    "    name={0:\"Dinesh\"}\n",
    "    for face in facesdetected:\n",
    "        (x, y, w, h) = face\n",
    "        roi_gray = Grayimg[y:y+h, x:x+h]\n",
    "        label, confidence = face_recognizer.predict(roi_gray)\n",
    "#         print(\"label:\", label)\n",
    "#         print(\"confidence: \", confidence)\n",
    "        \n",
    "        predicted_name = name[label]\n",
    "#         print(confidence)\n",
    "        if confidence<40:\n",
    "            drawrect(img, face, (0, 255, 0))\n",
    "            puttext(img, predicted_name, x, y)\n",
    "        else:\n",
    "            drawrect(img, face, (0, 0, 255))\n",
    "            puttext(img, \"Unauthorized\", x, y)\n",
    "            cv2.setMouseCallback('image', mouse_click)\n",
    "    img = cv2.resize(img, (800, 500))\n",
    "    cv2.imshow(\"image\", img)\n",
    "    if cv2.waitKey(1) & 0xFF == ord(\"q\"):\n",
    "        break\n",
    "cv2.destroyAllWindows()\n",
    "cap.release()"
   ]
  },
  {
   "cell_type": "code",
   "execution_count": null,
   "id": "63b9258f",
   "metadata": {},
   "outputs": [],
   "source": [
    "cv2.destroyAllWindows()\n",
    "cap.release()"
   ]
  },
  {
   "cell_type": "code",
   "execution_count": null,
   "id": "17caea8d",
   "metadata": {},
   "outputs": [],
   "source": []
  },
  {
   "cell_type": "code",
   "execution_count": null,
   "id": "f9f4ec0b",
   "metadata": {},
   "outputs": [],
   "source": []
  }
 ],
 "metadata": {
  "kernelspec": {
   "display_name": "Python 3",
   "language": "python",
   "name": "python3"
  },
  "language_info": {
   "codemirror_mode": {
    "name": "ipython",
    "version": 3
   },
   "file_extension": ".py",
   "mimetype": "text/x-python",
   "name": "python",
   "nbconvert_exporter": "python",
   "pygments_lexer": "ipython3",
   "version": "3.8.8"
  }
 },
 "nbformat": 4,
 "nbformat_minor": 5
}
